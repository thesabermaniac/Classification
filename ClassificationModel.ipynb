{
  "nbformat": 4,
  "nbformat_minor": 0,
  "metadata": {
    "colab": {
      "name": "ClassificationModel.ipynb",
      "provenance": [],
      "collapsed_sections": []
    },
    "kernelspec": {
      "name": "python3",
      "display_name": "Python 3"
    },
    "language_info": {
      "name": "python"
    }
  },
  "cells": [
    {
      "cell_type": "markdown",
      "metadata": {
        "id": "hruMnYSXT12M"
      },
      "source": [
        "# Introduction\n",
        "\n",
        "In this project, we're going to build python functions to meassure the results of a classification model. We're then going to compare our results to the results of python's built-in functions to ensure our functions are correct. \n",
        "\n",
        "We start with a data set that contains 181 observations. Each observation has a `class` variable with a value of either 0 or 1. It also has a `scored.class` variable which represents the results of the classification model which tried to predict the outcome of the `class` variable.\n",
        "\n",
        "We're first going to is the pandas `crosstab()` function to get the confusion matrix for our dataset. This will break down our data into the following 4 categories:\n",
        "\n",
        "- __True Negatives:__ The model predicted 0 and the actual value is 0\n",
        "- __False Negatives:__ The model predicted 0 and the actual value is 1\n",
        "- __True Positives:__ The model predicted 1 and the actual value is 1\n",
        "- __False Positives:__ The model predicted 1 and the actual value is 0\n",
        "\n",
        "We'll then evaluate the performance of the model by building functions to calculate various evaluation metrics. These metrics include accuracy, precision, sensitivity, specificity, and F1_score. After calculating the metric using our custom functions, we'll run python's built-in functions and compare the results.\n",
        "\n",
        "After getting our evaluation metrics, we'll write a function to plot the ROC curve and calculate the AUC of our results. We'll then compare those results to the scikit-learn packages that calculate the same metrics."
      ]
    },
    {
      "cell_type": "markdown",
      "metadata": {
        "id": "m5a9qtTKW7Vv"
      },
      "source": [
        "## Import Libraries"
      ]
    },
    {
      "cell_type": "code",
      "metadata": {
        "id": "7zwfwm8BJAU2"
      },
      "source": [
        "# load all libraries\n",
        "import pandas as pd \n",
        "import numpy as np\n",
        "import matplotlib.pyplot as plt\n",
        "import missingno as msno\n",
        "import seaborn as sns\n",
        "from sklearn.metrics import confusion_matrix, classification_report \n",
        "from sklearn.metrics import accuracy_score, recall_score, precision_score, f1_score, roc_auc_score, roc_curve\n",
        "from sklearn import metrics, model_selection, svm\n",
        "from yellowbrick.classifier import ROCAUC"
      ],
      "execution_count": 107,
      "outputs": []
    },
    {
      "cell_type": "markdown",
      "metadata": {
        "id": "sKV6j4EINlC1"
      },
      "source": [
        "# 1) Load Data\n",
        "\n",
        "We start by reading our data into a pandas data frame"
      ]
    },
    {
      "cell_type": "code",
      "metadata": {
        "colab": {
          "base_uri": "https://localhost:8080/",
          "height": 214
        },
        "id": "L0c3Q3KmJf-_",
        "outputId": "f75add26-db6d-453f-8f45-09632dad8001"
      },
      "source": [
        "# read csv file into data frame\n",
        "data = pd.read_csv(\"https://raw.githubusercontent.com/thesabermaniac/Classification/main/Day4%20Data.csv\")\n",
        "\n",
        "# show snapshot of data\n",
        "data.head()"
      ],
      "execution_count": 108,
      "outputs": [
        {
          "output_type": "execute_result",
          "data": {
            "text/html": [
              "<div>\n",
              "<style scoped>\n",
              "    .dataframe tbody tr th:only-of-type {\n",
              "        vertical-align: middle;\n",
              "    }\n",
              "\n",
              "    .dataframe tbody tr th {\n",
              "        vertical-align: top;\n",
              "    }\n",
              "\n",
              "    .dataframe thead th {\n",
              "        text-align: right;\n",
              "    }\n",
              "</style>\n",
              "<table border=\"1\" class=\"dataframe\">\n",
              "  <thead>\n",
              "    <tr style=\"text-align: right;\">\n",
              "      <th></th>\n",
              "      <th>pregnant</th>\n",
              "      <th>glucose</th>\n",
              "      <th>diastolic</th>\n",
              "      <th>skinfold</th>\n",
              "      <th>insulin</th>\n",
              "      <th>bmi</th>\n",
              "      <th>pedigree</th>\n",
              "      <th>age</th>\n",
              "      <th>class</th>\n",
              "      <th>scored.class</th>\n",
              "      <th>scored.probability</th>\n",
              "    </tr>\n",
              "  </thead>\n",
              "  <tbody>\n",
              "    <tr>\n",
              "      <th>0</th>\n",
              "      <td>7</td>\n",
              "      <td>124</td>\n",
              "      <td>70</td>\n",
              "      <td>33</td>\n",
              "      <td>215</td>\n",
              "      <td>25.5</td>\n",
              "      <td>0.161</td>\n",
              "      <td>37</td>\n",
              "      <td>0</td>\n",
              "      <td>0</td>\n",
              "      <td>0.328452</td>\n",
              "    </tr>\n",
              "    <tr>\n",
              "      <th>1</th>\n",
              "      <td>2</td>\n",
              "      <td>122</td>\n",
              "      <td>76</td>\n",
              "      <td>27</td>\n",
              "      <td>200</td>\n",
              "      <td>35.9</td>\n",
              "      <td>0.483</td>\n",
              "      <td>26</td>\n",
              "      <td>0</td>\n",
              "      <td>0</td>\n",
              "      <td>0.273190</td>\n",
              "    </tr>\n",
              "    <tr>\n",
              "      <th>2</th>\n",
              "      <td>3</td>\n",
              "      <td>107</td>\n",
              "      <td>62</td>\n",
              "      <td>13</td>\n",
              "      <td>48</td>\n",
              "      <td>22.9</td>\n",
              "      <td>0.678</td>\n",
              "      <td>23</td>\n",
              "      <td>1</td>\n",
              "      <td>0</td>\n",
              "      <td>0.109660</td>\n",
              "    </tr>\n",
              "    <tr>\n",
              "      <th>3</th>\n",
              "      <td>1</td>\n",
              "      <td>91</td>\n",
              "      <td>64</td>\n",
              "      <td>24</td>\n",
              "      <td>0</td>\n",
              "      <td>29.2</td>\n",
              "      <td>0.192</td>\n",
              "      <td>21</td>\n",
              "      <td>0</td>\n",
              "      <td>0</td>\n",
              "      <td>0.055998</td>\n",
              "    </tr>\n",
              "    <tr>\n",
              "      <th>4</th>\n",
              "      <td>4</td>\n",
              "      <td>83</td>\n",
              "      <td>86</td>\n",
              "      <td>19</td>\n",
              "      <td>0</td>\n",
              "      <td>29.3</td>\n",
              "      <td>0.317</td>\n",
              "      <td>34</td>\n",
              "      <td>0</td>\n",
              "      <td>0</td>\n",
              "      <td>0.100491</td>\n",
              "    </tr>\n",
              "  </tbody>\n",
              "</table>\n",
              "</div>"
            ],
            "text/plain": [
              "   pregnant  glucose  diastolic  ...  class  scored.class  scored.probability\n",
              "0         7      124         70  ...      0             0            0.328452\n",
              "1         2      122         76  ...      0             0            0.273190\n",
              "2         3      107         62  ...      1             0            0.109660\n",
              "3         1       91         64  ...      0             0            0.055998\n",
              "4         4       83         86  ...      0             0            0.100491\n",
              "\n",
              "[5 rows x 11 columns]"
            ]
          },
          "metadata": {
            "tags": []
          },
          "execution_count": 108
        }
      ]
    },
    {
      "cell_type": "code",
      "metadata": {
        "colab": {
          "base_uri": "https://localhost:8080/"
        },
        "id": "ZMi2oVEkL5hM",
        "outputId": "5a9dfceb-df17-4d60-c854-1a8d671d5009"
      },
      "source": [
        "# check for null values\n",
        "data.isnull().sum()"
      ],
      "execution_count": 109,
      "outputs": [
        {
          "output_type": "execute_result",
          "data": {
            "text/plain": [
              "pregnant              0\n",
              "glucose               0\n",
              "diastolic             0\n",
              "skinfold              0\n",
              "insulin               0\n",
              "bmi                   0\n",
              "pedigree              0\n",
              "age                   0\n",
              "class                 0\n",
              "scored.class          0\n",
              "scored.probability    0\n",
              "dtype: int64"
            ]
          },
          "metadata": {
            "tags": []
          },
          "execution_count": 109
        }
      ]
    },
    {
      "cell_type": "markdown",
      "metadata": {
        "id": "GlGYlrdRNoO5"
      },
      "source": [
        "# 2) Confusion Matrix\n",
        "\n",
        "Now, we'll create a confusion matrix and isolate each value as its own variable"
      ]
    },
    {
      "cell_type": "markdown",
      "metadata": {
        "id": "W7Pb3PhPYLyP"
      },
      "source": [
        "## Build Matrix"
      ]
    },
    {
      "cell_type": "code",
      "metadata": {
        "colab": {
          "base_uri": "https://localhost:8080/",
          "height": 164
        },
        "id": "rjsozRn3L8Ue",
        "outputId": "57f5b83d-cbf8-4a44-a5ed-7fd970c0f2de"
      },
      "source": [
        "# build confusion matrix\n",
        "confusion_matrix = pd.crosstab(data['class'], data['scored.class'], rownames=[\"Actual\"], colnames=['Prediction'], margins=True)\n",
        "\n",
        "confusion_matrix"
      ],
      "execution_count": 110,
      "outputs": [
        {
          "output_type": "execute_result",
          "data": {
            "text/html": [
              "<div>\n",
              "<style scoped>\n",
              "    .dataframe tbody tr th:only-of-type {\n",
              "        vertical-align: middle;\n",
              "    }\n",
              "\n",
              "    .dataframe tbody tr th {\n",
              "        vertical-align: top;\n",
              "    }\n",
              "\n",
              "    .dataframe thead th {\n",
              "        text-align: right;\n",
              "    }\n",
              "</style>\n",
              "<table border=\"1\" class=\"dataframe\">\n",
              "  <thead>\n",
              "    <tr style=\"text-align: right;\">\n",
              "      <th>Prediction</th>\n",
              "      <th>0</th>\n",
              "      <th>1</th>\n",
              "      <th>All</th>\n",
              "    </tr>\n",
              "    <tr>\n",
              "      <th>Actual</th>\n",
              "      <th></th>\n",
              "      <th></th>\n",
              "      <th></th>\n",
              "    </tr>\n",
              "  </thead>\n",
              "  <tbody>\n",
              "    <tr>\n",
              "      <th>0</th>\n",
              "      <td>119</td>\n",
              "      <td>5</td>\n",
              "      <td>124</td>\n",
              "    </tr>\n",
              "    <tr>\n",
              "      <th>1</th>\n",
              "      <td>30</td>\n",
              "      <td>27</td>\n",
              "      <td>57</td>\n",
              "    </tr>\n",
              "    <tr>\n",
              "      <th>All</th>\n",
              "      <td>149</td>\n",
              "      <td>32</td>\n",
              "      <td>181</td>\n",
              "    </tr>\n",
              "  </tbody>\n",
              "</table>\n",
              "</div>"
            ],
            "text/plain": [
              "Prediction    0   1  All\n",
              "Actual                  \n",
              "0           119   5  124\n",
              "1            30  27   57\n",
              "All         149  32  181"
            ]
          },
          "metadata": {
            "tags": []
          },
          "execution_count": 110
        }
      ]
    },
    {
      "cell_type": "markdown",
      "metadata": {
        "id": "OkyH1BiSXkV3"
      },
      "source": [
        "Let's confirm what's represented in the rows and columns"
      ]
    },
    {
      "cell_type": "code",
      "metadata": {
        "colab": {
          "base_uri": "https://localhost:8080/"
        },
        "id": "y9PD7v7bMljC",
        "outputId": "f97ae0ca-395d-49b5-9ffd-7db362a07dca"
      },
      "source": [
        "# totals for actual values \n",
        "data['class'].value_counts()"
      ],
      "execution_count": 111,
      "outputs": [
        {
          "output_type": "execute_result",
          "data": {
            "text/plain": [
              "0    124\n",
              "1     57\n",
              "Name: class, dtype: int64"
            ]
          },
          "metadata": {
            "tags": []
          },
          "execution_count": 111
        }
      ]
    },
    {
      "cell_type": "code",
      "metadata": {
        "colab": {
          "base_uri": "https://localhost:8080/"
        },
        "id": "eHD_YJXuMtUA",
        "outputId": "1189cfb5-fde2-4043-efe7-c884e3df5cda"
      },
      "source": [
        "# totals for predicted values\n",
        "data['scored.class'].value_counts()"
      ],
      "execution_count": 112,
      "outputs": [
        {
          "output_type": "execute_result",
          "data": {
            "text/plain": [
              "0    149\n",
              "1     32\n",
              "Name: scored.class, dtype: int64"
            ]
          },
          "metadata": {
            "tags": []
          },
          "execution_count": 112
        }
      ]
    },
    {
      "cell_type": "markdown",
      "metadata": {
        "id": "isxNp-u6Xqea"
      },
      "source": [
        "This clearly shows that the rows represent the actual values, as the total '0' values are 124 and the total '1' values are 57. Meanwhile, the columns match up with the predicted totals"
      ]
    },
    {
      "cell_type": "markdown",
      "metadata": {
        "id": "uh7KjANgYOOh"
      },
      "source": [
        "## Separate values\n",
        "\n",
        "Next, we'll separate each cell of the confusion matrix into its own variable"
      ]
    },
    {
      "cell_type": "code",
      "metadata": {
        "colab": {
          "base_uri": "https://localhost:8080/"
        },
        "id": "tFQI1AZiQJ7w",
        "outputId": "dd37120a-1bb4-48db-84b4-5b1b37f9b3fa"
      },
      "source": [
        "TN = confusion_matrix[0][0]\n",
        "FN = confusion_matrix[0][1]\n",
        "FP = confusion_matrix[1][0]\n",
        "TP = confusion_matrix[1][1]\n",
        "\n",
        "print(\"True Negatives:\", TN)\n",
        "print(\"False Negatives:\", FN)\n",
        "print(\"False Positives:\", FP)\n",
        "print(\"True Positives:\", TP)"
      ],
      "execution_count": 113,
      "outputs": [
        {
          "output_type": "stream",
          "text": [
            "True Negatives: 119\n",
            "False Negatives: 30\n",
            "False Positives: 5\n",
            "True Positives: 27\n"
          ],
          "name": "stdout"
        }
      ]
    },
    {
      "cell_type": "markdown",
      "metadata": {
        "id": "wViFyaT8D8nc"
      },
      "source": [
        "# 3) Extract Confusion Matrix Values\n",
        "\n",
        "Let's turn that separation of cells into a generalized function so we can easily use it down the road"
      ]
    },
    {
      "cell_type": "code",
      "metadata": {
        "id": "QPiLJQfWlYMi"
      },
      "source": [
        "def get_results(actual, predicted):\n",
        "  '''This function takes lists of actual and predicted values from a classification model.\n",
        "     It returns the True Negative, False Negative, False Positive, and True Positive values\n",
        "     of the resulting confusion matrix.'''\n",
        "  confusion_matrix = pd.crosstab(actual, predicted, rownames=[\"Actual\"], colnames=['Prediction'], margins=True)\n",
        "\n",
        "  # We use try/except to avoid throwing an error if there's no value in the confusion matrix\n",
        "  try:\n",
        "    TN = confusion_matrix[0][0]\n",
        "  except:\n",
        "    TN = 0\n",
        "  try:\n",
        "    FN = confusion_matrix[0][1]\n",
        "  except:\n",
        "    FN = 0\n",
        "  try:\n",
        "    FP = confusion_matrix[1][0]\n",
        "  except:\n",
        "    FP = 0\n",
        "  try:\n",
        "    TP = confusion_matrix[1][1]\n",
        "  except:\n",
        "    TP = 0\n",
        "\n",
        "  return TN, FN, FP, TP"
      ],
      "execution_count": 114,
      "outputs": []
    },
    {
      "cell_type": "markdown",
      "metadata": {
        "id": "8_w3xNGUEL8J"
      },
      "source": [
        "# 4) Python Functions\n",
        "\n",
        "Now, we're going to write our own functions for evaluation metrics and compare our results to python's built-in functions"
      ]
    },
    {
      "cell_type": "markdown",
      "metadata": {
        "id": "9vbQB2-IZyvl"
      },
      "source": [
        "## Accuracy\n",
        "\n",
        "Accuracy defines a model's ability to accurately classify an observation. It simply takes the total acurately predicted observations ($TP + TN$) and divides it by the total observations.\n",
        "\n",
        "$accuracy = \\frac {(TP + TN)}{(TN + FN + FP + TP)}$"
      ]
    },
    {
      "cell_type": "markdown",
      "metadata": {
        "id": "iTUfY6LBbLCD"
      },
      "source": [
        "### Custom Function"
      ]
    },
    {
      "cell_type": "code",
      "metadata": {
        "id": "K-Qh0QGUiuWC"
      },
      "source": [
        "def get_accuracy(actual, predicted):\n",
        "  '''This method accepts lists of actual and predicted values\n",
        "     and returns the resulting accuracy'''\n",
        "  TN, FN, FP, TP = get_results(actual, predicted)\n",
        "\n",
        "  return (TP + TN)/(TN + FN + FP + TP)"
      ],
      "execution_count": 115,
      "outputs": []
    },
    {
      "cell_type": "markdown",
      "metadata": {
        "id": "mYk4hsnvbIOk"
      },
      "source": [
        "### Compare to python function"
      ]
    },
    {
      "cell_type": "code",
      "metadata": {
        "colab": {
          "base_uri": "https://localhost:8080/"
        },
        "id": "iXunL2bsk9bV",
        "outputId": "49a7172f-d7a4-44b2-cec5-c4b20ab16fe7"
      },
      "source": [
        "print(get_accuracy(data['class'], data['scored.class']))\n",
        "\n",
        "print(accuracy_score(data['class'], data['scored.class']))"
      ],
      "execution_count": 116,
      "outputs": [
        {
          "output_type": "stream",
          "text": [
            "0.8066298342541437\n",
            "0.8066298342541437\n"
          ],
          "name": "stdout"
        }
      ]
    },
    {
      "cell_type": "markdown",
      "metadata": {
        "id": "6Ex9YavGbRV1"
      },
      "source": [
        "As you can see, we got the same result as the sklearn `accuracy_score()` method, indicating our method is correct"
      ]
    },
    {
      "cell_type": "markdown",
      "metadata": {
        "id": "B0TG6gOkbexY"
      },
      "source": [
        "## Precision\n",
        "\n",
        "Our next metric is precision. This meassures how often a model is correct when it predicts a positive value. It simply divides the true positives by the total positve predictions. \n",
        "\n",
        "$precision = \\frac {TP}{(TP + FP)}$"
      ]
    },
    {
      "cell_type": "markdown",
      "metadata": {
        "id": "aMTldQ0Pb5Nv"
      },
      "source": [
        "### Custom Function"
      ]
    },
    {
      "cell_type": "code",
      "metadata": {
        "id": "RmFh6GK3lRIw"
      },
      "source": [
        "def get_precision(actual, predicted):\n",
        "  '''This method accepts lists of actual and predicted values\n",
        "     and returns the resulting precision'''\n",
        "  TN, FN, FP, TP = get_results(actual, predicted)\n",
        "\n",
        "  return TP/(TP + FP)"
      ],
      "execution_count": 117,
      "outputs": []
    },
    {
      "cell_type": "markdown",
      "metadata": {
        "id": "olNdpuGocAOV"
      },
      "source": [
        "### Compare to python function"
      ]
    },
    {
      "cell_type": "code",
      "metadata": {
        "colab": {
          "base_uri": "https://localhost:8080/"
        },
        "id": "umEwdma7l0k-",
        "outputId": "7ab12852-ad94-4a5b-d1fa-46ad6745c0ba"
      },
      "source": [
        "print(get_precision(data['class'], data['scored.class']))\n",
        "\n",
        "print(precision_score(data['class'], data['scored.class']))"
      ],
      "execution_count": 118,
      "outputs": [
        {
          "output_type": "stream",
          "text": [
            "0.84375\n",
            "0.84375\n"
          ],
          "name": "stdout"
        }
      ]
    },
    {
      "cell_type": "markdown",
      "metadata": {
        "id": "KZOTAkMZcEEJ"
      },
      "source": [
        "As you can see, we got the same value as sklearn's `precision_score()` method, indicating our function is correct"
      ]
    },
    {
      "cell_type": "markdown",
      "metadata": {
        "id": "i_SAoqzQcN2Q"
      },
      "source": [
        "## Sensitivity\n",
        "\n",
        "Sensitivity meassures a model's ability to correctly classify positive values. It simply divides the true positives by the total positves.\n",
        "\n",
        "$sensitivity = \\frac{TP}{(TP + FN)}$"
      ]
    },
    {
      "cell_type": "markdown",
      "metadata": {
        "id": "688IInu54EnU"
      },
      "source": [
        "### Custom Function"
      ]
    },
    {
      "cell_type": "code",
      "metadata": {
        "id": "tKXyKXM7mST2"
      },
      "source": [
        "def get_sensitivity(actual, predicted):\n",
        "  '''This method accepts lists of actual and predicted values\n",
        "     and returns the resulting sensitivity'''\n",
        "  TN, FN, FP, TP = get_results(actual, predicted)\n",
        "\n",
        "  return TP/(TP + FN)"
      ],
      "execution_count": 119,
      "outputs": []
    },
    {
      "cell_type": "markdown",
      "metadata": {
        "id": "oiFANndo4GuM"
      },
      "source": [
        "### Compare to python function"
      ]
    },
    {
      "cell_type": "code",
      "metadata": {
        "colab": {
          "base_uri": "https://localhost:8080/"
        },
        "id": "oFkehbnHmdXQ",
        "outputId": "d8bb4a67-2598-406b-fe31-6b36b3f1b5c1"
      },
      "source": [
        "print(get_sensitivity(data['class'], data['scored.class']))\n",
        "\n",
        "print(recall_score(data['class'], data['scored.class']))"
      ],
      "execution_count": 120,
      "outputs": [
        {
          "output_type": "stream",
          "text": [
            "0.47368421052631576\n",
            "0.47368421052631576\n"
          ],
          "name": "stdout"
        }
      ]
    },
    {
      "cell_type": "markdown",
      "metadata": {
        "id": "M8OwmvC6dEHH"
      },
      "source": [
        "As you can see, the results of our function are identical to sklearn's `recall_score()`, indicating our function is correct"
      ]
    },
    {
      "cell_type": "markdown",
      "metadata": {
        "id": "hUpTCZPZdTCM"
      },
      "source": [
        "## Specificity\n",
        "\n",
        "Specificity meassures the model's ability to classify an observation as negative. It divides the true negatives by the total negatives\n",
        "\n",
        "$specificity = \\frac{TN}{(TN + FP)}$"
      ]
    },
    {
      "cell_type": "markdown",
      "metadata": {
        "id": "ogflEoRX4M6A"
      },
      "source": [
        "### Custom Function"
      ]
    },
    {
      "cell_type": "code",
      "metadata": {
        "id": "akjkcMtUmqoQ"
      },
      "source": [
        "def get_specificity(actual, predicted):\n",
        "  '''This method accepts lists of actual and predicted values\n",
        "     and returns the resulting specificity'''\n",
        "  TN, FN, FP, TP = get_results(actual, predicted)\n",
        "\n",
        "  return TN/(TN + FP)"
      ],
      "execution_count": 121,
      "outputs": []
    },
    {
      "cell_type": "markdown",
      "metadata": {
        "id": "BKYcHXBe4PD_"
      },
      "source": [
        "### Compare to python function"
      ]
    },
    {
      "cell_type": "code",
      "metadata": {
        "colab": {
          "base_uri": "https://localhost:8080/"
        },
        "id": "877ywOHGn8bk",
        "outputId": "d9914583-5e50-4867-cf5b-711ab1098b01"
      },
      "source": [
        "print(get_specificity(data['class'], data['scored.class']))\n",
        "\n",
        "print(recall_score(data['class'], data['scored.class'], pos_label=0))"
      ],
      "execution_count": 122,
      "outputs": [
        {
          "output_type": "stream",
          "text": [
            "0.9596774193548387\n",
            "0.9596774193548387\n"
          ],
          "name": "stdout"
        }
      ]
    },
    {
      "cell_type": "markdown",
      "metadata": {
        "id": "Fk1ArCZ1lL74"
      },
      "source": [
        "As you can see, the results of our function are identical to sklearn's `recall_score()`, indicating our function is correct"
      ]
    },
    {
      "cell_type": "markdown",
      "metadata": {
        "id": "eOZyaTV-lcqw"
      },
      "source": [
        "## F1 Score\n",
        "\n",
        "F1-score meassures the harmonic mean of precision and sensitivity. This is useful when you want to capture the balance between precision and recall. You want to make sure you're model is correctly predicting as many positive values as possible (precision), but you also want to make sure it's not incorrectly predicting negatives in the process (sensitivity).\n",
        "\n",
        "$F_1score = 2\\frac{(precision \\times sensitivity)}{(precision + sensitivity)}$"
      ]
    },
    {
      "cell_type": "code",
      "metadata": {
        "id": "kXHbZb6DoO3-"
      },
      "source": [
        "def get_f1_score(actual, predicted):\n",
        "  '''This method accepts lists of actual and predicted values\n",
        "     and returns the resulting f1_score'''\n",
        "  TN, FN, FP, TP = get_results(actual, predicted)\n",
        "  precision = get_precision(actual, predicted) \n",
        "  sensitivity = get_sensitivity(actual, predicted)\n",
        "\n",
        "  return ((2 * precision * sensitivity)/(precision + sensitivity))"
      ],
      "execution_count": 123,
      "outputs": []
    },
    {
      "cell_type": "code",
      "metadata": {
        "colab": {
          "base_uri": "https://localhost:8080/"
        },
        "id": "JAfKXLwFozri",
        "outputId": "dd961c13-282e-4496-87af-33fc3a34e2f5"
      },
      "source": [
        "print(get_f1_score(data['class'], data['scored.class']))\n",
        "\n",
        "print(f1_score(data['class'], data['scored.class']))"
      ],
      "execution_count": 124,
      "outputs": [
        {
          "output_type": "stream",
          "text": [
            "0.6067415730337079\n",
            "0.6067415730337079\n"
          ],
          "name": "stdout"
        }
      ]
    },
    {
      "cell_type": "markdown",
      "metadata": {
        "id": "DEbBjL4TocVe"
      },
      "source": [
        "As you can see, the results of our function are identical to sklearn's `f1_score()`, indicating our function is correct"
      ]
    },
    {
      "cell_type": "markdown",
      "metadata": {
        "id": "ntaW6psO4h6w"
      },
      "source": [
        "## Classification Report\n",
        "\n",
        "Let's run sklearn's `classification_report()` to verify all our metrics once again"
      ]
    },
    {
      "cell_type": "code",
      "metadata": {
        "colab": {
          "base_uri": "https://localhost:8080/"
        },
        "id": "Gd6S1bFu4uau",
        "outputId": "6a7ed165-f701-483f-ded5-6de6c0334342"
      },
      "source": [
        "print(classification_report(data['class'], data['scored.class']))"
      ],
      "execution_count": 131,
      "outputs": [
        {
          "output_type": "stream",
          "text": [
            "              precision    recall  f1-score   support\n",
            "\n",
            "           0       0.80      0.96      0.87       124\n",
            "           1       0.84      0.47      0.61        57\n",
            "\n",
            "    accuracy                           0.81       181\n",
            "   macro avg       0.82      0.72      0.74       181\n",
            "weighted avg       0.81      0.81      0.79       181\n",
            "\n"
          ],
          "name": "stdout"
        }
      ]
    },
    {
      "cell_type": "markdown",
      "metadata": {
        "id": "0ZMkHXJS5RS3"
      },
      "source": [
        "As you can see, all these metrics match up with both the metrics from our custom functions as well as the metrics from sklearn's built-in functions. It looks like these metrics are all correct"
      ]
    },
    {
      "cell_type": "markdown",
      "metadata": {
        "id": "xp3dchD1EQzp"
      },
      "source": [
        "# 5) ROC Curve and AUC\n",
        "\n",
        "The ROC, or receiver operating characteristic, curve summarizes the trade=off between the true positive rate and false positive rate. It plots the true positive rate against the false positive rate for different thresholds. The more area there is under the curve, or AUC, the better the model is. That means the model is predicting more true positives and less false positives at lower thresholds."
      ]
    },
    {
      "cell_type": "markdown",
      "metadata": {
        "id": "LtjFN37GuXvA"
      },
      "source": [
        "## Plot ROC Curve"
      ]
    },
    {
      "cell_type": "code",
      "metadata": {
        "id": "s8YzNdIkqHkk"
      },
      "source": [
        "def get_false_positive_rate(actual, predicted):\n",
        "  '''This method accepts lists of actual and predicted values\n",
        "     and returns the resulting false positive rate'''\n",
        "  TN, FN, FP, TP = get_results(actual, predicted)\n",
        "\n",
        "  return FP/(TN + FP)"
      ],
      "execution_count": 125,
      "outputs": []
    },
    {
      "cell_type": "code",
      "metadata": {
        "id": "sUfphFE7p6Mr"
      },
      "source": [
        "def plot_roc(actual, predicted, prob):\n",
        "  '''This method takes lists of the actual classifications, the predicted classifications,\n",
        "     and the probabibilty for each observation, plots the ROC, and returns lists for the\n",
        "     true positive and false positve rates'''\n",
        "  # set threshold iterator\n",
        "  thresholds = np.arange(0, 1, 0.01)\n",
        "\n",
        "  # initialize rate lists\n",
        "  true_positive_rates = []\n",
        "  false_positive_rates = []\n",
        "\n",
        "  # iterate over threshold iterator, if the probability is over the \n",
        "  # threshold, consider it a positive, otherwise consider it negative\n",
        "  for i in thresholds:\n",
        "    new_predicted = []\n",
        "    for j in range(len(prob)):\n",
        "      if prob[j] < i:\n",
        "        new_predicted.append(0)\n",
        "      else:\n",
        "        new_predicted.append(1)\n",
        "    \n",
        "    # get true positivity rate (aka sensitivity) of new predicted values\n",
        "    TPR = get_sensitivity(actual, pd.Series(new_predicted))\n",
        "    true_positive_rates.append(TPR)\n",
        "\n",
        "    # get false positive rate\n",
        "    FPR = get_false_positive_rate(actual, pd.Series(new_predicted))\n",
        "    false_positive_rates.append(FPR)\n",
        "\n",
        "  # plot false positive rate against true positive rate\n",
        "  plt.step(false_positive_rates, true_positive_rates, '-', label=\"model\")\n",
        "  plt.plot([0, 1], [0, 1], 'r--', label = 'random classifier')\n",
        "\n",
        "  # add labels and title\n",
        "  plt.xlabel('False Positive Rate')\n",
        "  plt.ylabel('True Positive Rate')\n",
        "  plt.title('Receiver Operating Characteristic (ROC) Curve')\n",
        "  plt.legend()\n",
        "\n",
        "  plt.show()\n",
        "  \n",
        "  return true_positive_rates, false_positive_rates"
      ],
      "execution_count": 129,
      "outputs": []
    },
    {
      "cell_type": "code",
      "metadata": {
        "colab": {
          "base_uri": "https://localhost:8080/",
          "height": 294
        },
        "id": "68HWueD_rAYu",
        "outputId": "a416dcc8-b8da-48cf-f66c-1eef69e8d5bd"
      },
      "source": [
        "tpr_list, fpr_list = plot_roc(data['class'], data['scored.class'], data['scored.probability'])"
      ],
      "execution_count": 130,
      "outputs": [
        {
          "output_type": "display_data",
          "data": {
            "image/png": "[encoded data removed]",
            "text/plain": [
              "<Figure size 432x288 with 1 Axes>"
            ]
          },
          "metadata": {
            "tags": [],
            "needs_background": "light"
          }
        }
      ]
    },
    {
      "cell_type": "markdown",
      "metadata": {
        "id": "OpVhQ69itBMN"
      },
      "source": [
        "The red dotted line in this chart represents a classifier model if it were randomly classifying each observation. You can see our model is significantly better than that, as you'd expect. Let's calculate the AUC to determine how much better it is."
      ]
    },
    {
      "cell_type": "markdown",
      "metadata": {
        "id": "35zrPMDhucZB"
      },
      "source": [
        "## Calculate AUC"
      ]
    },
    {
      "cell_type": "code",
      "metadata": {
        "id": "Mfx9kD4r7kNP"
      },
      "source": [
        "def get_auc(true_positives, false_positives):\n",
        "  '''This method takes the true positives and false positives of \n",
        "     a model and returns the area under the curve'''\n",
        "  \n",
        "  # set the x and y to tp and fp respectively\n",
        "  x = true_positives.copy()\n",
        "  y = false_positives.copy()\n",
        "\n",
        "  # sort axes in ascending order\n",
        "  x.sort()\n",
        "  y.sort()\n",
        "\n",
        "  # run numpy's built-in trapezoidal function to get the auc\n",
        "  return np.trapz(x, y)"
      ],
      "execution_count": 94,
      "outputs": []
    },
    {
      "cell_type": "code",
      "metadata": {
        "colab": {
          "base_uri": "https://localhost:8080/"
        },
        "id": "1lgy8Ull745V",
        "outputId": "e08cc34f-223c-4021-97af-666cac322aff"
      },
      "source": [
        "get_auc(tpr_list, fpr_list)"
      ],
      "execution_count": 95,
      "outputs": [
        {
          "output_type": "execute_result",
          "data": {
            "text/plain": [
              "0.8488964346349746"
            ]
          },
          "metadata": {
            "tags": []
          },
          "execution_count": 95
        }
      ]
    },
    {
      "cell_type": "markdown",
      "metadata": {
        "id": "27FPdKR1t6_v"
      },
      "source": [
        "As you can see our AUC score is ~.849. This is significantly better than random classification which would be 0.5"
      ]
    },
    {
      "cell_type": "markdown",
      "metadata": {
        "id": "g5Mgqh38uVlu"
      },
      "source": [
        "## Compare to sklearn function\n",
        "\n",
        "Now we're going to compare our results to sklearn's `plot_roc_curve()` function. This requires a classifier model so we'll use sklearn's `SVC` classifier as our instance."
      ]
    },
    {
      "cell_type": "code",
      "metadata": {
        "colab": {
          "base_uri": "https://localhost:8080/",
          "height": 279
        },
        "id": "tB4CnYLr-W2_",
        "outputId": "42770d4e-8249-4017-e155-513d02e4af95"
      },
      "source": [
        "\n",
        "X = data[['pregnant', 'glucose', 'diastolic', 'skinfold', 'insulin', 'bmi', 'pedigree', 'age']].copy()\n",
        "y = data['class'].copy()\n",
        "\n",
        "clf = svm.SVC(random_state=0)\n",
        "clf.fit(X, y)\n",
        "\n",
        "metrics.plot_roc_curve(clf, X, y) \n",
        "plt.plot([0, 1], [0, 1], 'r--', label = 'naive classifier')\n",
        "\n",
        "plt.show()"
      ],
      "execution_count": 106,
      "outputs": [
        {
          "output_type": "display_data",
          "data": {
            "image/png": "[encoded data removed]",
            "text/plain": [
              "<Figure size 432x288 with 1 Axes>"
            ]
          },
          "metadata": {
            "tags": [],
            "needs_background": "light"
          }
        }
      ]
    },
    {
      "cell_type": "markdown",
      "metadata": {
        "id": "TNkSYPJz10_R"
      },
      "source": [
        "It looks like the roc curve we get from sklearn's `plot_roc_curve()` is pretty in line with our function. Likewise, the sklearn function calculated an AUC of 0.84 which is in line with our AUC."
      ]
    }
  ]
}